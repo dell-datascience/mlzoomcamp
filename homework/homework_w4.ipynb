{
 "cells": [
  {
   "cell_type": "code",
   "execution_count": 108,
   "metadata": {},
   "outputs": [],
   "source": [
    "import numpy as np\n",
    "import pandas as pd\n",
    "from matplotlib import pyplot as plt\n",
    "import seaborn as sns\n",
    "from sklearn.metrics import mutual_info_score, accuracy_score, mean_squared_error, auc, roc_auc_score\n",
    "from sklearn.model_selection import train_test_split, KFold\n",
    "from sklearn.feature_extraction import DictVectorizer\n",
    "from sklearn.linear_model import LogisticRegression, Ridge"
   ]
  },
  {
   "cell_type": "code",
   "execution_count": 109,
   "metadata": {},
   "outputs": [],
   "source": [
    "df: pd.DataFrame = pd.read_csv(('https://raw.githubusercontent.com/alexeygrigorev/mlbookcamp-code/master/chapter-02-car-price/data.csv'))"
   ]
  },
  {
   "cell_type": "code",
   "execution_count": 110,
   "metadata": {},
   "outputs": [],
   "source": [
    "features = [\"Make\", \"Model\" ,\"Year\" ,\"Engine HP\", \"Engine Cylinders\", \"Transmission Type\", \"Vehicle Style\", \"highway MPG\",\"city mpg\", \"MSRP\"]\n",
    "df = df[features].copy()\n",
    "df.columns = df.columns.str.replace(\" \",\"_\").str.lower()\n",
    "df.rename(columns={\"msrp\":\"price\"},inplace=True)\n"
   ]
  },
  {
   "cell_type": "code",
   "execution_count": 111,
   "metadata": {},
   "outputs": [
    {
     "data": {
      "text/plain": [
       "['make',\n",
       " 'model',\n",
       " 'year',\n",
       " 'engine_hp',\n",
       " 'engine_cylinders',\n",
       " 'transmission_type',\n",
       " 'vehicle_style',\n",
       " 'highway_mpg',\n",
       " 'city_mpg',\n",
       " 'price']"
      ]
     },
     "execution_count": 111,
     "metadata": {},
     "output_type": "execute_result"
    }
   ],
   "source": [
    "df.columns.tolist()"
   ]
  },
  {
   "cell_type": "code",
   "execution_count": 112,
   "metadata": {},
   "outputs": [
    {
     "data": {
      "text/plain": [
       "make                 0\n",
       "model                0\n",
       "year                 0\n",
       "engine_hp            0\n",
       "engine_cylinders     0\n",
       "transmission_type    0\n",
       "vehicle_style        0\n",
       "highway_mpg          0\n",
       "city_mpg             0\n",
       "price                0\n",
       "dtype: int64"
      ]
     },
     "execution_count": 112,
     "metadata": {},
     "output_type": "execute_result"
    }
   ],
   "source": [
    "df.fillna(0, inplace=True)\n",
    "df.isnull().sum()"
   ]
  },
  {
   "cell_type": "code",
   "execution_count": 113,
   "metadata": {},
   "outputs": [],
   "source": [
    "# find above average\n",
    "price_mean= df.price.mean()\n",
    "price_mean\n",
    "df['above_average']= (df.price > price_mean).astype('int64')\n",
    "\n",
    "# separate numeric from categorical data\n",
    "categorical = df.dtypes[df.dtypes =='object'].index.tolist()\n",
    "numeric = df.columns.difference(categorical).tolist()\n",
    "\n",
    "# create x numeric and y data\n",
    "data_y = df['above_average'].values\n",
    "data_x = df[numeric].drop(labels=[\"price\",\"above_average\"],axis=1)\n",
    "\n",
    "# split data into train, val, test\n",
    "np.random.seed(1)\n",
    "x_train, x_test, y_train, test_y =train_test_split(data_x,data_y,test_size=0.2, random_state= 1)\n",
    "x_train, x_val, y_train, y_val =train_test_split(x_train,y_train,test_size=0.25, random_state= 1)"
   ]
  },
  {
   "cell_type": "markdown",
   "metadata": {},
   "source": [
    "# 1."
   ]
  },
  {
   "cell_type": "code",
   "execution_count": 114,
   "metadata": {},
   "outputs": [
    {
     "name": "stdout",
     "output_type": "stream",
     "text": [
      "city_mpg : 0.6734244643245233\n",
      "\n",
      "engine_cylinders : 0.766116490165669\n",
      "\n",
      "engine_hp : 0.9171031265539011\n",
      "\n",
      "highway_mpg : 0.6330587871772013\n",
      "\n",
      "year : 0.687551492804683\n",
      "\n",
      "Therefore, highest auc_score is engine_hp\n"
     ]
    }
   ],
   "source": [
    "scores = {}\n",
    "for column in x_train.columns:\n",
    "    score = roc_auc_score(y_train, x_train[column])\n",
    "    if score < 0.5:\n",
    "        score = roc_auc_score(y_train, -x_train[column])\n",
    "    scores[column] = score\n",
    "    print(f\"{column} : {score}\\n\")\n",
    "\n",
    "highest = max(scores.values())\n",
    "\n",
    "highest_feature = [key for key, value in scores.items() if value == max(scores.values())]\n",
    "print(f\"Therefore, highest auc_score is {highest_feature[0]}\")"
   ]
  },
  {
   "cell_type": "markdown",
   "metadata": {},
   "source": [
    "1. answer is engine_hp"
   ]
  },
  {
   "cell_type": "markdown",
   "metadata": {},
   "source": [
    "# 2."
   ]
  },
  {
   "cell_type": "code",
   "execution_count": 115,
   "metadata": {},
   "outputs": [
    {
     "data": {
      "text/html": [
       "<style>#sk-container-id-4 {color: black;}#sk-container-id-4 pre{padding: 0;}#sk-container-id-4 div.sk-toggleable {background-color: white;}#sk-container-id-4 label.sk-toggleable__label {cursor: pointer;display: block;width: 100%;margin-bottom: 0;padding: 0.3em;box-sizing: border-box;text-align: center;}#sk-container-id-4 label.sk-toggleable__label-arrow:before {content: \"▸\";float: left;margin-right: 0.25em;color: #696969;}#sk-container-id-4 label.sk-toggleable__label-arrow:hover:before {color: black;}#sk-container-id-4 div.sk-estimator:hover label.sk-toggleable__label-arrow:before {color: black;}#sk-container-id-4 div.sk-toggleable__content {max-height: 0;max-width: 0;overflow: hidden;text-align: left;background-color: #f0f8ff;}#sk-container-id-4 div.sk-toggleable__content pre {margin: 0.2em;color: black;border-radius: 0.25em;background-color: #f0f8ff;}#sk-container-id-4 input.sk-toggleable__control:checked~div.sk-toggleable__content {max-height: 200px;max-width: 100%;overflow: auto;}#sk-container-id-4 input.sk-toggleable__control:checked~label.sk-toggleable__label-arrow:before {content: \"▾\";}#sk-container-id-4 div.sk-estimator input.sk-toggleable__control:checked~label.sk-toggleable__label {background-color: #d4ebff;}#sk-container-id-4 div.sk-label input.sk-toggleable__control:checked~label.sk-toggleable__label {background-color: #d4ebff;}#sk-container-id-4 input.sk-hidden--visually {border: 0;clip: rect(1px 1px 1px 1px);clip: rect(1px, 1px, 1px, 1px);height: 1px;margin: -1px;overflow: hidden;padding: 0;position: absolute;width: 1px;}#sk-container-id-4 div.sk-estimator {font-family: monospace;background-color: #f0f8ff;border: 1px dotted black;border-radius: 0.25em;box-sizing: border-box;margin-bottom: 0.5em;}#sk-container-id-4 div.sk-estimator:hover {background-color: #d4ebff;}#sk-container-id-4 div.sk-parallel-item::after {content: \"\";width: 100%;border-bottom: 1px solid gray;flex-grow: 1;}#sk-container-id-4 div.sk-label:hover label.sk-toggleable__label {background-color: #d4ebff;}#sk-container-id-4 div.sk-serial::before {content: \"\";position: absolute;border-left: 1px solid gray;box-sizing: border-box;top: 0;bottom: 0;left: 50%;z-index: 0;}#sk-container-id-4 div.sk-serial {display: flex;flex-direction: column;align-items: center;background-color: white;padding-right: 0.2em;padding-left: 0.2em;position: relative;}#sk-container-id-4 div.sk-item {position: relative;z-index: 1;}#sk-container-id-4 div.sk-parallel {display: flex;align-items: stretch;justify-content: center;background-color: white;position: relative;}#sk-container-id-4 div.sk-item::before, #sk-container-id-4 div.sk-parallel-item::before {content: \"\";position: absolute;border-left: 1px solid gray;box-sizing: border-box;top: 0;bottom: 0;left: 50%;z-index: -1;}#sk-container-id-4 div.sk-parallel-item {display: flex;flex-direction: column;z-index: 1;position: relative;background-color: white;}#sk-container-id-4 div.sk-parallel-item:first-child::after {align-self: flex-end;width: 50%;}#sk-container-id-4 div.sk-parallel-item:last-child::after {align-self: flex-start;width: 50%;}#sk-container-id-4 div.sk-parallel-item:only-child::after {width: 0;}#sk-container-id-4 div.sk-dashed-wrapped {border: 1px dashed gray;margin: 0 0.4em 0.5em 0.4em;box-sizing: border-box;padding-bottom: 0.4em;background-color: white;}#sk-container-id-4 div.sk-label label {font-family: monospace;font-weight: bold;display: inline-block;line-height: 1.2em;}#sk-container-id-4 div.sk-label-container {text-align: center;}#sk-container-id-4 div.sk-container {/* jupyter's `normalize.less` sets `[hidden] { display: none; }` but bootstrap.min.css set `[hidden] { display: none !important; }` so we also need the `!important` here to be able to override the default hidden behavior on the sphinx rendered scikit-learn.org. See: https://github.com/scikit-learn/scikit-learn/issues/21755 */display: inline-block !important;position: relative;}#sk-container-id-4 div.sk-text-repr-fallback {display: none;}</style><div id=\"sk-container-id-4\" class=\"sk-top-container\"><div class=\"sk-text-repr-fallback\"><pre>LogisticRegression(max_iter=1000, solver=&#x27;liblinear&#x27;)</pre><b>In a Jupyter environment, please rerun this cell to show the HTML representation or trust the notebook. <br />On GitHub, the HTML representation is unable to render, please try loading this page with nbviewer.org.</b></div><div class=\"sk-container\" hidden><div class=\"sk-item\"><div class=\"sk-estimator sk-toggleable\"><input class=\"sk-toggleable__control sk-hidden--visually\" id=\"sk-estimator-id-4\" type=\"checkbox\" checked><label for=\"sk-estimator-id-4\" class=\"sk-toggleable__label sk-toggleable__label-arrow\">LogisticRegression</label><div class=\"sk-toggleable__content\"><pre>LogisticRegression(max_iter=1000, solver=&#x27;liblinear&#x27;)</pre></div></div></div></div></div>"
      ],
      "text/plain": [
       "LogisticRegression(max_iter=1000, solver='liblinear')"
      ]
     },
     "execution_count": 115,
     "metadata": {},
     "output_type": "execute_result"
    }
   ],
   "source": [
    "# create x and y data\n",
    "from matplotlib import category\n",
    "\n",
    "\n",
    "data_y = df['above_average'].values\n",
    "data_x = df[numeric + categorical].drop(labels=[\"price\",\"above_average\"],axis=1)\n",
    "\n",
    "# split data into train, val, test\n",
    "np.random.seed(1)\n",
    "train_x, test_x, train_y, test_y =train_test_split(data_x,data_y,test_size=0.2, random_state= 1)\n",
    "x_train, x_val, y_train, y_val =train_test_split(train_x,train_y,test_size=0.25, random_state= 1)\n",
    "\n",
    "x_train_dict =  x_train.to_dict(orient=\"records\")\n",
    "x_val_dict   =  x_val.to_dict(orient=\"records\")\n",
    "\n",
    "dv = DictVectorizer(sparse=False)\n",
    "X_train = dv.fit_transform(x_train_dict)\n",
    "X_val = dv.transform(x_val_dict)\n",
    "\n",
    "model = LogisticRegression(solver='liblinear', C=1.0, max_iter=1000)\n",
    "\n",
    "model.fit(X_train,y_train)\n",
    "\n"
   ]
  },
  {
   "cell_type": "code",
   "execution_count": 116,
   "metadata": {},
   "outputs": [
    {
     "data": {
      "text/plain": [
       "0.977"
      ]
     },
     "execution_count": 116,
     "metadata": {},
     "output_type": "execute_result"
    }
   ],
   "source": [
    "y_pred = model.predict_proba(X_val)[:,1]\n",
    "score = round(roc_auc_score((y_val),y_pred),3)\n",
    "score\n"
   ]
  },
  {
   "cell_type": "markdown",
   "metadata": {},
   "source": [
    "2. Answer is 0.979"
   ]
  },
  {
   "cell_type": "markdown",
   "metadata": {},
   "source": [
    "# 3"
   ]
  },
  {
   "cell_type": "code",
   "execution_count": 117,
   "metadata": {},
   "outputs": [
    {
     "data": {
      "text/plain": [
       "array([0.  , 0.01, 0.02, 0.03, 0.04, 0.05, 0.06, 0.07, 0.08, 0.09, 0.1 ,\n",
       "       0.11, 0.12, 0.13, 0.14, 0.15, 0.16, 0.17, 0.18, 0.19, 0.2 , 0.21,\n",
       "       0.22, 0.23, 0.24, 0.25, 0.26, 0.27, 0.28, 0.29, 0.3 , 0.31, 0.32,\n",
       "       0.33, 0.34, 0.35, 0.36, 0.37, 0.38, 0.39, 0.4 , 0.41, 0.42, 0.43,\n",
       "       0.44, 0.45, 0.46, 0.47, 0.48, 0.49, 0.5 , 0.51, 0.52, 0.53, 0.54,\n",
       "       0.55, 0.56, 0.57, 0.58, 0.59, 0.6 , 0.61, 0.62, 0.63, 0.64, 0.65,\n",
       "       0.66, 0.67, 0.68, 0.69, 0.7 , 0.71, 0.72, 0.73, 0.74, 0.75, 0.76,\n",
       "       0.77, 0.78, 0.79, 0.8 , 0.81, 0.82, 0.83, 0.84, 0.85, 0.86, 0.87,\n",
       "       0.88, 0.89, 0.9 , 0.91, 0.92, 0.93, 0.94, 0.95, 0.96, 0.97, 0.98,\n",
       "       0.99, 1.  ])"
      ]
     },
     "execution_count": 117,
     "metadata": {},
     "output_type": "execute_result"
    }
   ],
   "source": [
    "np.linspace(0, 1, 101)"
   ]
  },
  {
   "cell_type": "code",
   "execution_count": 118,
   "metadata": {},
   "outputs": [
    {
     "data": {
      "text/plain": [
       "<matplotlib.legend.Legend at 0x11ee72790>"
      ]
     },
     "execution_count": 118,
     "metadata": {},
     "output_type": "execute_result"
    },
    {
     "data": {
      "image/png": "[encoded data removed]",
      "text/plain": [
       "<Figure size 640x480 with 1 Axes>"
      ]
     },
     "metadata": {},
     "output_type": "display_data"
    }
   ],
   "source": [
    "threshold = np.linspace(0, 1, 101)\n",
    "result = []\n",
    "for threshold_level in threshold:\n",
    "    real_positive = (y_val == 1)\n",
    "    real_negative = (y_val == 0)\n",
    "\n",
    "    predict_positive = (y_pred >= threshold_level)\n",
    "    predict_negative = (y_pred < threshold_level)\n",
    "\n",
    "    tp = (real_positive & predict_positive).sum()\n",
    "    fp = (real_negative & predict_positive).sum()\n",
    "\n",
    "    tn = (real_negative & predict_negative).sum()\n",
    "    fn = (real_positive & predict_negative).sum()\n",
    "    result.append((threshold_level, tp, tn, fp, fn))\n",
    "\n",
    "cols = ['threshold', 'tp', 'tn', 'fp', 'fn']\n",
    "threshold_score_df = pd.DataFrame(result, columns=cols)\n",
    "\n",
    "threshold_score_df['precision'] = threshold_score_df.tp/(threshold_score_df.tp + threshold_score_df.fp)\n",
    "threshold_score_df['recal'] = threshold_score_df.tp/(threshold_score_df.tp + threshold_score_df.fn)\n",
    "\n",
    "plt.plot(threshold_score_df.threshold, threshold_score_df.precision, label= 'precision')\n",
    "plt.plot(threshold_score_df.threshold, threshold_score_df.recal, label= 'recal')\n",
    "plt.xlabel(\"threshold\")\n",
    "plt.ylabel(\"precision-recal\")\n",
    "plt.legend()\n"
   ]
  },
  {
   "cell_type": "markdown",
   "metadata": {},
   "source": [
    "3. answer is 0.48"
   ]
  },
  {
   "cell_type": "markdown",
   "metadata": {},
   "source": [
    "# 4"
   ]
  },
  {
   "cell_type": "code",
   "execution_count": 119,
   "metadata": {},
   "outputs": [
    {
     "data": {
      "text/html": [
       "<div>\n",
       "<style scoped>\n",
       "    .dataframe tbody tr th:only-of-type {\n",
       "        vertical-align: middle;\n",
       "    }\n",
       "\n",
       "    .dataframe tbody tr th {\n",
       "        vertical-align: top;\n",
       "    }\n",
       "\n",
       "    .dataframe thead th {\n",
       "        text-align: right;\n",
       "    }\n",
       "</style>\n",
       "<table border=\"1\" class=\"dataframe\">\n",
       "  <thead>\n",
       "    <tr style=\"text-align: right;\">\n",
       "      <th></th>\n",
       "      <th>threshold</th>\n",
       "      <th>tp</th>\n",
       "      <th>tn</th>\n",
       "      <th>fp</th>\n",
       "      <th>fn</th>\n",
       "      <th>precision</th>\n",
       "      <th>recall</th>\n",
       "      <th>F1</th>\n",
       "    </tr>\n",
       "  </thead>\n",
       "  <tbody>\n",
       "    <tr>\n",
       "      <th>50</th>\n",
       "      <td>0.5</td>\n",
       "      <td>567</td>\n",
       "      <td>1653</td>\n",
       "      <td>76</td>\n",
       "      <td>87</td>\n",
       "      <td>0.881804</td>\n",
       "      <td>0.866972</td>\n",
       "      <td>0.874325</td>\n",
       "    </tr>\n",
       "  </tbody>\n",
       "</table>\n",
       "</div>"
      ],
      "text/plain": [
       "    threshold   tp    tn  fp  fn  precision    recall        F1\n",
       "50        0.5  567  1653  76  87   0.881804  0.866972  0.874325"
      ]
     },
     "execution_count": 119,
     "metadata": {},
     "output_type": "execute_result"
    },
    {
     "data": {
      "image/png": "[encoded data removed]",
      "text/plain": [
       "<Figure size 640x480 with 1 Axes>"
      ]
     },
     "metadata": {},
     "output_type": "display_data"
    }
   ],
   "source": [
    "threshold = np.linspace(0, 1, 101)\n",
    "result = []\n",
    "for threshold_level in threshold:\n",
    "    real_positive = (y_val == 1)\n",
    "    real_negative = (y_val == 0)\n",
    "\n",
    "    predict_positive = (y_pred >= threshold_level)\n",
    "    predict_negative = (y_pred < threshold_level)\n",
    "\n",
    "    tp = (real_positive & predict_positive).sum()\n",
    "    fp = (real_negative & predict_positive).sum()\n",
    "\n",
    "    tn = (real_negative & predict_negative).sum()\n",
    "    fn = (real_positive & predict_negative).sum()\n",
    "    result.append((threshold_level, tp, tn, fp, fn))\n",
    "\n",
    "cols = ['threshold', 'tp', 'tn', 'fp', 'fn']\n",
    "threshold_score_df = pd.DataFrame(result, columns=cols)\n",
    "\n",
    "threshold_score_df['precision'] = threshold_score_df.tp/(threshold_score_df.tp + threshold_score_df.fp)\n",
    "threshold_score_df['recall'] = threshold_score_df.tp/(threshold_score_df.tp + threshold_score_df.fn)\n",
    "threshold_score_df['F1'] = 2 * ((threshold_score_df.precision * threshold_score_df.recall)/(threshold_score_df.precision + threshold_score_df.recall))\n",
    "\n",
    "plt.plot(threshold_score_df.threshold, threshold_score_df.F1, label= 'F1 score')\n",
    "plt.xlabel(\"threshold\")\n",
    "plt.ylabel(\"F1 score\")\n",
    "plt.legend()\n",
    "threshold_score_df.nlargest(1, 'F1')\n"
   ]
  },
  {
   "cell_type": "markdown",
   "metadata": {},
   "source": [
    "# F1 is maximum at 0.52"
   ]
  },
  {
   "cell_type": "markdown",
   "metadata": {},
   "source": [
    "# 5"
   ]
  },
  {
   "cell_type": "code",
   "execution_count": 120,
   "metadata": {},
   "outputs": [],
   "source": [
    "def train(train_x, train_y, C ):\n",
    "    x_train_dict = train_x.to_dict(orient='records')\n",
    "\n",
    "    dv = DictVectorizer(sparse=False)\n",
    "    X_train = dv.fit_transform(x_train_dict)\n",
    "\n",
    "    model = LogisticRegression(solver='liblinear', C= C, max_iter=1000)\n",
    "    model.fit(X_train, train_y)\n",
    "\n",
    "    return dv, model\n",
    "\n",
    "def predict(test_x, dv, model):\n",
    "    test_x_dicts = test_x.to_dict(orient='records')\n",
    "\n",
    "    X = dv.transform(test_x_dicts)\n",
    "    y_pred = model.predict_proba(X)[:, 1]\n",
    "\n",
    "    return y_pred"
   ]
  },
  {
   "cell_type": "code",
   "execution_count": 121,
   "metadata": {},
   "outputs": [
    {
     "data": {
      "text/plain": [
       "(0.0012491725533796557, 0.9789578647101941)"
      ]
     },
     "execution_count": 121,
     "metadata": {},
     "output_type": "execute_result"
    }
   ],
   "source": [
    "scores = []\n",
    "\n",
    "kfold = KFold(n_splits=5, shuffle=True, random_state=1)\n",
    "\n",
    "for train_idx , val_idx in kfold.split(x_train, y_train):\n",
    "    train_x = x_train.iloc[train_idx]\n",
    "    train_y = y_train[train_idx]\n",
    "\n",
    "    val_x = x_train.iloc[val_idx]\n",
    "    val_y = y_train[val_idx]\n",
    "\n",
    "    dv, model = train(train_x, train_y, C=1.0)\n",
    "    y_pred = predict(val_x, dv, model)\n",
    "\n",
    "    auc = roc_auc_score(val_y, y_pred)\n",
    "    scores.append(auc)\n",
    "np.std(scores), np.mean(scores)"
   ]
  },
  {
   "cell_type": "code",
   "execution_count": 122,
   "metadata": {},
   "outputs": [
    {
     "data": {
      "text/plain": [
       "(0.0012491725533796557, 0.9789578647101941)"
      ]
     },
     "execution_count": 122,
     "metadata": {},
     "output_type": "execute_result"
    }
   ],
   "source": [
    "np.std(scores), np.mean(scores)"
   ]
  },
  {
   "cell_type": "markdown",
   "metadata": {},
   "source": [
    "answer is 0.003"
   ]
  },
  {
   "cell_type": "markdown",
   "metadata": {},
   "source": [
    "# 6"
   ]
  },
  {
   "cell_type": "code",
   "execution_count": 123,
   "metadata": {},
   "outputs": [
    {
     "data": {
      "text/html": [
       "<div>\n",
       "<style scoped>\n",
       "    .dataframe tbody tr th:only-of-type {\n",
       "        vertical-align: middle;\n",
       "    }\n",
       "\n",
       "    .dataframe tbody tr th {\n",
       "        vertical-align: top;\n",
       "    }\n",
       "\n",
       "    .dataframe thead th {\n",
       "        text-align: right;\n",
       "    }\n",
       "</style>\n",
       "<table border=\"1\" class=\"dataframe\">\n",
       "  <thead>\n",
       "    <tr style=\"text-align: right;\">\n",
       "      <th></th>\n",
       "      <th>C</th>\n",
       "      <th>std</th>\n",
       "      <th>avg</th>\n",
       "    </tr>\n",
       "  </thead>\n",
       "  <tbody>\n",
       "    <tr>\n",
       "      <th>0</th>\n",
       "      <td>0.01</td>\n",
       "      <td>0.002950</td>\n",
       "      <td>0.948535</td>\n",
       "    </tr>\n",
       "    <tr>\n",
       "      <th>1</th>\n",
       "      <td>0.10</td>\n",
       "      <td>0.002568</td>\n",
       "      <td>0.970842</td>\n",
       "    </tr>\n",
       "    <tr>\n",
       "      <th>2</th>\n",
       "      <td>0.50</td>\n",
       "      <td>0.002757</td>\n",
       "      <td>0.978299</td>\n",
       "    </tr>\n",
       "    <tr>\n",
       "      <th>3</th>\n",
       "      <td>10.00</td>\n",
       "      <td>0.002515</td>\n",
       "      <td>0.978765</td>\n",
       "    </tr>\n",
       "  </tbody>\n",
       "</table>\n",
       "</div>"
      ],
      "text/plain": [
       "       C       std       avg\n",
       "0   0.01  0.002950  0.948535\n",
       "1   0.10  0.002568  0.970842\n",
       "2   0.50  0.002757  0.978299\n",
       "3  10.00  0.002515  0.978765"
      ]
     },
     "execution_count": 123,
     "metadata": {},
     "output_type": "execute_result"
    }
   ],
   "source": [
    "scores_avg =[]\n",
    "\n",
    "for C in [0.01, 0.1, 0.5, 10]:\n",
    "\n",
    "    scores = []\n",
    "\n",
    "    kfold = KFold(n_splits=5, shuffle=True, random_state=1)\n",
    "\n",
    "    for train_idx , val_idx in kfold.split(x_train, y_train):\n",
    "        train_x = x_train.iloc[train_idx]\n",
    "        train_y = y_train[train_idx]\n",
    "\n",
    "        val_x = x_train.iloc[val_idx]\n",
    "        val_y = y_train[val_idx]\n",
    "\n",
    "        dv, model = train(train_x, train_y, C=C)\n",
    "        y_pred = predict(val_x, dv, model)\n",
    "\n",
    "        auc = roc_auc_score(val_y, y_pred)\n",
    "        scores.append(auc)\n",
    "    scores_avg.append((C, np.std(scores), np.mean(scores)))\n",
    "\n",
    "df= pd.DataFrame(scores_avg, columns=['C','std', 'avg'])\n",
    "df"
   ]
  },
  {
   "cell_type": "code",
   "execution_count": 124,
   "metadata": {},
   "outputs": [
    {
     "data": {
      "text/html": [
       "<div>\n",
       "<style scoped>\n",
       "    .dataframe tbody tr th:only-of-type {\n",
       "        vertical-align: middle;\n",
       "    }\n",
       "\n",
       "    .dataframe tbody tr th {\n",
       "        vertical-align: top;\n",
       "    }\n",
       "\n",
       "    .dataframe thead th {\n",
       "        text-align: right;\n",
       "    }\n",
       "</style>\n",
       "<table border=\"1\" class=\"dataframe\">\n",
       "  <thead>\n",
       "    <tr style=\"text-align: right;\">\n",
       "      <th></th>\n",
       "      <th>C</th>\n",
       "      <th>std</th>\n",
       "      <th>avg</th>\n",
       "    </tr>\n",
       "  </thead>\n",
       "  <tbody>\n",
       "    <tr>\n",
       "      <th>3</th>\n",
       "      <td>10.0</td>\n",
       "      <td>0.002515</td>\n",
       "      <td>0.978765</td>\n",
       "    </tr>\n",
       "  </tbody>\n",
       "</table>\n",
       "</div>"
      ],
      "text/plain": [
       "      C       std       avg\n",
       "3  10.0  0.002515  0.978765"
      ]
     },
     "execution_count": 124,
     "metadata": {},
     "output_type": "execute_result"
    }
   ],
   "source": [
    "df.nlargest(1,'avg')"
   ]
  },
  {
   "cell_type": "markdown",
   "metadata": {},
   "source": [
    "answer is 10.0"
   ]
  }
 ],
 "metadata": {
  "kernelspec": {
   "display_name": "mlzoomcamp",
   "language": "python",
   "name": "python3"
  },
  "language_info": {
   "codemirror_mode": {
    "name": "ipython",
    "version": 3
   },
   "file_extension": ".py",
   "mimetype": "text/x-python",
   "name": "python",
   "nbconvert_exporter": "python",
   "pygments_lexer": "ipython3",
   "version": "3.11.5"
  }
 },
 "nbformat": 4,
 "nbformat_minor": 2
}
